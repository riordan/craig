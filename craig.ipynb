{
 "metadata": {
  "name": "craig"
 },
 "nbformat": 3,
 "nbformat_minor": 0,
 "worksheets": [
  {
   "cells": [
    {
     "cell_type": "code",
     "collapsed": false,
     "input": [
      "#This is called Craig, because it gets new MARC record IDs\n",
      "import requests\n",
      "import simplejson as json\n",
      "import time\n",
      "\n",
      "bibliokey = \"\"\n",
      "bibliobase = \"https://api.bibliocommons.com/v1/titles\"\n",
      "bibliotime = time.time()\n",
      "\n",
      "marcurlbase = \"http://catalog.nypl.org/xrecord=\""
     ],
     "language": "python",
     "metadata": {},
     "outputs": [],
     "prompt_number": 10
    },
    {
     "cell_type": "code",
     "collapsed": false,
     "input": [
      "def biblioget(p):\n",
      "    global bibliotime\n",
      "    while time.time() < bibliotime + 0.51:\n",
      "        time.sleep(0.001)\n",
      "    r=requests.get(bibliobase, params = p)\n",
      "    bibliotime = time.time()\n",
      "    return r"
     ],
     "language": "python",
     "metadata": {},
     "outputs": [],
     "prompt_number": 13
    },
    {
     "cell_type": "code",
     "collapsed": false,
     "input": [
      "def getNewBNums(daysToGet=7):\n",
      "    bnums = []\n",
      "    pagenum = 1\n",
      "    while True:\n",
      "        # Turn this into a function afterwards\n",
      "        \n",
      "        \n",
      "        query = \"nw:[0 TO %d]\" %daysToGet\n",
      "        \n",
      "        \n",
      "        \n",
      "        param_base= {\"library\":\"nypl\", \"search_type\":\"custom\", \"q\":query, \"limit\":\"100\", \"page\":str(pagenum), \"metadata\":\"0\", \"date_format\":\"iso8601\", \"locale\":\"en-US\", \"api_key\":bibliokey}\n",
      "        \n",
      "        r=biblioget(param_base)\n",
      "        #print r.json()\n",
      "        \n",
      "        response = r.json()\n",
      "        \n",
      "        #figure out how many more calls we have\n",
      "        totalItems = int(response['count'])\n",
      "        pages = int(response['pages'])\n",
      "        perPage = int(response['limit'])\n",
      "        \n",
      "        for i in response['titles']:\n",
      "            biblioB = i['id']\n",
      "            bNum = \"b\"+biblioB[0:-6]\n",
      "            bnums.append(bNum)\n",
      "                \n",
      "        #Captured them all\n",
      "        pagenum +=1\n",
      "        if pagenum > pages:\n",
      "            break\n",
      "    \n",
      "    return bnums\n"
     ],
     "language": "python",
     "metadata": {},
     "outputs": [],
     "prompt_number": 49
    },
    {
     "cell_type": "code",
     "collapsed": false,
     "input": [
      "b = getNewBNums()"
     ],
     "language": "python",
     "metadata": {},
     "outputs": [],
     "prompt_number": 50
    },
    {
     "cell_type": "code",
     "collapsed": false,
     "input": [
      "len(b)"
     ],
     "language": "python",
     "metadata": {},
     "outputs": [
      {
       "output_type": "pyout",
       "prompt_number": 51,
       "text": [
        "1643"
       ]
      }
     ],
     "prompt_number": 51
    }
   ],
   "metadata": {}
  }
 ]
}